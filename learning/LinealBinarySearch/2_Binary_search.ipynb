{
 "cells": [
  {
   "cell_type": "markdown",
   "id": "f9fb390b-ddd6-411b-af65-8d3ed93b4e92",
   "metadata": {},
   "source": [
    "# 2. Búsqueda binaria\n",
    "\n",
    "Con un conjunto de datos ordenado, podemos aprovechar el orden para realizar una búsqueda que es más eficiente que ir elemento por elemento.\n",
    "\n",
    "La búsqueda binaria requiere un conjunto de datos ordenados. Luego, realizamos los siguientes pasos:\n",
    "\n",
    "- Verificamos el valor medio del conjunto de datos.\n",
    "    - Si este valor coincide con nuestro objetivo, podemos devolver el índice.\n",
    "- Si el valor medio es menor que nuestro objetivo.\n",
    "    - Comenzamos en el paso 1 usando la mitad derecha de la lista.\n",
    "- Si el valor medio es mayor que nuestro objetivo.\n",
    "    - Comenzamos en el paso 1 usando la mitad izquierda de la lista.\n",
    "\n",
    "Eventualmente nos quedamos sin valores en la lista o encontramos el valor objetivo."
   ]
  },
  {
   "cell_type": "markdown",
   "id": "40916757-45d8-4413-ac44-32fffd82ae68",
   "metadata": {},
   "source": [
    "## 2.1 Complejidad temporal de la búsqueda binaria\n",
    "\n",
    "En cada iteración, cortamos la lista a la mitad. La complejidad temporal es $\\mathcal{O}(log N)$.\n",
    "\n",
    "Una lista ordenada de 64 elementos requerirá como máximo $\\log_2(64) = 6 $ comparaciones.\n",
    "\n",
    "\n",
    "<img src=\"Binary_search.png\"  width=\"500\" >\n"
   ]
  },
  {
   "cell_type": "markdown",
   "id": "e42584c9-2f29-467a-a8a2-05f774cc9235",
   "metadata": {},
   "source": [
    "## 2.1 Binary search de forma iterativa.\n",
    "\n",
    "1. Define `binary_search()` ([Abrir binary_search_sandbox.py](binary_search.py)) con `sorted_list` y `target` como parametros.\n",
    "2. Inicializa `left_pointer` a cero y `right_pointer` igual a la longitud de `sorted_list`.\n",
    "3. Crea una funcion `while` que verifique que `left_pointer` sea menor a `right_pointer` y dentro:\n",
    "    1. Calcula el indice medio `mid_idx` de `sorted_list` y el valor medio `mid_val` de `sorted_list`.\n",
    "    2. Utiliza condicionales para verificar cualquiera de los siguientes 3 casos:\n",
    "        1. Si  `mid_val` es igual a  `target` entonces regresa `mid_idx`.\n",
    "        2. Si `target` es menor a `mid_val` entonces actualiza `right_pointer` igual a `mid_idx`.\n",
    "        3. Si `target` es mayor que `mid_val` entonces actualiza `left_pointer` igual a `mid_idx + 1`.\n",
    "4. Fuera del ciclo `while` regtresa `\"valor no en la lista\"` en caso de que `target` no este en la lista.\n",
    "\n",
    "\n",
    "Despues de completar las actividades de arriba debes verificar tu avance corriendo el test correspodiente ejecutando la siguiente linea de codigo en una celda de codigo.\n",
    "\n",
    "`!python3 -m unittest Test_2_binary_search.py`"
   ]
  },
  {
   "cell_type": "code",
   "execution_count": 1,
   "id": "16662653",
   "metadata": {},
   "outputs": [
    {
     "name": "stdout",
     "output_type": "stream",
     "text": [
      "The file start_from.txt was not found.\n",
      "Running from students' code\n"
     ]
    },
    {
     "name": "stderr",
     "output_type": "stream",
     "text": [
      ".......\n",
      "----------------------------------------------------------------------\n",
      "Ran 7 tests in 0.000s\n",
      "\n",
      "OK\n"
     ]
    }
   ],
   "source": [
    "!python3 -m unittest Test_2_binary_search.py"
   ]
  },
  {
   "cell_type": "markdown",
   "id": "c87593c6-f7bd-4bd0-9275-2e459845c664",
   "metadata": {},
   "source": [
    "# 3. Problema de logica: balas de cañon\n",
    "\n",
    "Tienes 9 balas de cañón, y una de ellas es diferente (puede ser más pesada o más ligera que las demás). Tienes una balanza de dos platos y el objetivo es identificar cuál es la bala diferente utilizando la menor cantidad de pesadas posible.\n",
    "\n",
    "1. Codifica `find_ball()` el cual implemente el algoritmo que encuentre cual bala es la diferente he imprima el numero de \"pesadas\" que utilice.\n",
    "2. Con tus conociminetos de matematicas (😂😂) encuentra una ecuacion que prediga el numero de pesadas dado un numero de balas $N$. Escribe la eacuacion en Latex y explica tu razonamiento."
   ]
  },
  {
   "cell_type": "markdown",
   "id": "55f5fe26",
   "metadata": {},
   "source": [
    "\n",
    "### Solución\n",
    "\n",
    "El número mínimo de pesadas necesarias se puede deducir utilizando un enfoque de búsqueda binaria y razonamiento por eliminación. La idea es dividir las balas en grupos y comparar sus pesos utilizando la balanza. Cada pesada nos da información para reducir el conjunto de posibles balas diferentes.\n",
    "\n",
    "Para cualquier número de balas \\( N \\), el número de pesadas \\( P \\) necesarias para identificar la bala diferente (ya sea más pesada o más ligera) está relacionado con el logaritmo en base 3 de \\( N \\). Esto es porque, en cada pesada, podemos dividir las balas en 3 grupos aproximadamente iguales y obtener información suficiente para eliminar dos tercios de las balas.\n",
    "\n",
    "La ecuación general que predice el número de pesadas \\( P \\) para \\( N \\) balas se puede aproximar como:\n",
    "\n",
    "$$\n",
    "P = \\lceil \\log_3(N) \\rceil\n",
    "$$\n",
    "\n",
    "Donde \\( \\lceil x \\rceil \\) denota el techo o función de redondeo hacia arriba, que asegura que el resultado sea un número entero.\n",
    "\n",
    "**Razonamiento:**\n",
    "\n",
    "1. **Primera pesada:** Divide las 9 balas en 3 grupos de 3 balas cada uno y pesa dos de esos grupos.\n",
    "   - Si se equilibran, la bala diferente está en el tercer grupo.\n",
    "   - Si no se equilibran, la bala diferente está en el grupo más pesado o más ligero.\n",
    "\n",
    "2. **Segunda pesada:** Tome el grupo de 3 balas que contiene la bala diferente y divídalo en 3 balas individuales. Pese dos de ellas.\n",
    "   - Si se equilibran, la bala diferente es la que no se pesó.\n",
    "   - Si no se equilibran, la bala diferente es la más pesada o más ligera, dependiendo del resultado de la primera pesada.\n",
    "\n",
    "Por lo tanto, con 9 balas, se necesitan a lo sumo \\( \\lceil \\log_3(9) \\rceil = 2 \\) pesadas para identificar la bala diferente."
   ]
  },
  {
   "cell_type": "code",
   "execution_count": 1,
   "id": "b5e06649",
   "metadata": {},
   "outputs": [
    {
     "name": "stdout",
     "output_type": "stream",
     "text": [
      "Número mínimo de pesadas necesarias para 9 balas: 2\n"
     ]
    }
   ],
   "source": [
    "import math\n",
    "\n",
    "def find_ball(N):\n",
    "    \"\"\"\n",
    "    Función para determinar el número mínimo de pesadas necesarias\n",
    "    para identificar la bala diferente entre N balas.\n",
    "    \n",
    "    Parámetros:\n",
    "    N (int): Número de balas.\n",
    "    \n",
    "    Retorna:\n",
    "    int: Número mínimo de pesadas necesarias.\n",
    "    \"\"\"\n",
    "    return math.ceil(math.log(N, 3))\n",
    "\n",
    "# Ejemplo de uso\n",
    "if __name__ == \"__main__\":\n",
    "    N = 9  # Número de balas\n",
    "    pesadas_necesarias = find_ball(N)\n",
    "    print(f\"Número mínimo de pesadas necesarias para {N} balas: {pesadas_necesarias}\")"
   ]
  }
 ],
 "metadata": {
  "kernelspec": {
   "display_name": "Python 3",
   "language": "python",
   "name": "python3"
  },
  "language_info": {
   "codemirror_mode": {
    "name": "ipython",
    "version": 3
   },
   "file_extension": ".py",
   "mimetype": "text/x-python",
   "name": "python",
   "nbconvert_exporter": "python",
   "pygments_lexer": "ipython3",
   "version": "3.11.9"
  }
 },
 "nbformat": 4,
 "nbformat_minor": 5
}
